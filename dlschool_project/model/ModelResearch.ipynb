{
  "nbformat": 4,
  "nbformat_minor": 0,
  "metadata": {
    "colab": {
      "name": "ModelResearch.ipynb",
      "version": "0.3.2",
      "provenance": [],
      "collapsed_sections": [],
      "toc_visible": true
    },
    "language_info": {
      "codemirror_mode": {
        "name": "ipython",
        "version": 3
      },
      "file_extension": ".py",
      "mimetype": "text/x-python",
      "name": "python",
      "nbconvert_exporter": "python",
      "pygments_lexer": "ipython3",
      "version": "3.6.7"
    },
    "kernelspec": {
      "name": "python3",
      "display_name": "Python 3"
    },
    "accelerator": "GPU"
  },
  "cells": [
    {
      "cell_type": "markdown",
      "metadata": {
        "colab_type": "text",
        "id": "GTERpyBRMJ-I"
      },
      "source": [
        "# Введение и как запустить проект"
      ]
    },
    {
      "cell_type": "markdown",
      "metadata": {
        "id": "aP9uZDW2zFoP",
        "colab_type": "text"
      },
      "source": [
        "Данный проект - разработка бота для классификации пород собак. В этом ноутбуке находятся эксперименты по использованию различных архитектур сетей. Сам же бот находится в dlschool_project/telegram_bot. Для запуска в файле telegram_token.py нужно указать токен созданого бота. В файле config.py нужно указать путь к папке, в которой находится экспортированная модель. После этого достаточно запустить main.py."
      ]
    },
    {
      "cell_type": "markdown",
      "metadata": {
        "id": "mpPv2DLhy0gp",
        "colab_type": "text"
      },
      "source": [
        "# Разработка модели"
      ]
    },
    {
      "cell_type": "markdown",
      "metadata": {
        "id": "fpUNaGcNU_Bc",
        "colab_type": "text"
      },
      "source": [
        "https://github.com/154King154/bot_classify - репозиторий проекта"
      ]
    },
    {
      "cell_type": "code",
      "metadata": {
        "colab_type": "code",
        "id": "koxANEBvMJ-K",
        "colab": {}
      },
      "source": [
        "from __future__ import print_function, division\n",
        "\n",
        "import torch\n",
        "import torch.nn as nn\n",
        "import torch.optim as optim\n",
        "from torch.optim import lr_scheduler\n",
        "\n",
        "import numpy as np\n",
        "import torchvision\n",
        "from torchvision import datasets, models, transforms\n",
        "import matplotlib.pyplot as plt\n",
        "import time\n",
        "import os\n",
        "\n",
        "from fastai.vision import *\n",
        "\n",
        "plt.ion()"
      ],
      "execution_count": 0,
      "outputs": []
    },
    {
      "cell_type": "markdown",
      "metadata": {
        "colab_type": "text",
        "id": "8MlIw-sIMJ-O"
      },
      "source": [
        "# Загрузка датасета\n",
        "\n"
      ]
    },
    {
      "cell_type": "markdown",
      "metadata": {
        "colab_type": "text",
        "id": "2nBRYKk7MJ-O"
      },
      "source": [
        "Используемый мной датасет https://www.kaggle.com/jessicali9530/stanford-dogs-dataset/\n",
        "Его я использовал полностью как train, a для validation собирал картинки в гугле, примерно еще 8500 картинок.\n",
        "Обучение происходило в колабе, т.к. компьютер чуточку не потянул."
      ]
    },
    {
      "cell_type": "code",
      "metadata": {
        "id": "zm2C4fbqGGWL",
        "colab_type": "code",
        "outputId": "56852163-73b1-4a4a-b05f-60b8efe6969b",
        "colab": {
          "base_uri": "https://localhost:8080/",
          "height": 54
        }
      },
      "source": [
        "from google.colab import drive\n",
        "drive.mount('/content/drive/')\n",
        "#/content/drive/Team Drives/mlearn\n",
        "#path to files "
      ],
      "execution_count": 9,
      "outputs": [
        {
          "output_type": "stream",
          "text": [
            "Drive already mounted at /content/drive/; to attempt to forcibly remount, call drive.mount(\"/content/drive/\", force_remount=True).\n"
          ],
          "name": "stdout"
        }
      ]
    },
    {
      "cell_type": "code",
      "metadata": {
        "colab_type": "code",
        "id": "IzAEDyVtMJ-P",
        "outputId": "976a171c-da63-4295-807c-93c8fa73b5a5",
        "colab": {
          "base_uri": "https://localhost:8080/",
          "height": 34
        }
      },
      "source": [
        "from pathlib import Path\n",
        "#PATH = Path('/home/alex/dogs_dataset/')\n",
        "PATH = Path('/content/drive/My Drive/dlschool_project/data_dogs')\n",
        "print(PATH)\n",
        "tfms = get_transforms(do_flip=True,\n",
        "                     flip_vert=False,\n",
        "                     max_rotate=10.0,\n",
        "                     max_zoom=0.5,\n",
        "                     max_lighting=0.9,\n",
        "                     max_warp=0.2)\n",
        "data = ImageDataBunch.from_folder(PATH, ds_tfms=tfms, bs=16, size=256)"
      ],
      "execution_count": 3,
      "outputs": [
        {
          "output_type": "stream",
          "text": [
            "/content/drive/My Drive/dlschool_project/data_dogs\n"
          ],
          "name": "stdout"
        }
      ]
    },
    {
      "cell_type": "markdown",
      "metadata": {
        "id": "i7ohYP_ElSCZ",
        "colab_type": "text"
      },
      "source": [
        "Проведен серию экспериментов для выявления лучшей совокупности архитекруы сети и accuracy. Веса сохраним в папке /dlschool_project/model/ где каждой используемой в эксперименте архитектуре будет соответсвовать папка с сохраннеными в ней весами.\n"
      ]
    },
    {
      "cell_type": "markdown",
      "metadata": {
        "id": "9R6b8N9Wl3Qa",
        "colab_type": "text"
      },
      "source": [
        "**Используемые архитектуры:**\n",
        "\n",
        "\n",
        "\n",
        "*   VGG16 - 55% score\n",
        "*  ResNeXt - 63% score\n",
        "* ShuffleNet v2 - 35% score\n",
        "\n"
      ]
    },
    {
      "cell_type": "markdown",
      "metadata": {
        "colab_type": "text",
        "id": "G3Qx2p5MMJ-R"
      },
      "source": [
        "# VGG16"
      ]
    },
    {
      "cell_type": "code",
      "metadata": {
        "colab_type": "code",
        "id": "Vsl6c63zMJ-S",
        "outputId": "f4527aa3-3e7e-402c-d357-47585d53c515",
        "colab": {
          "base_uri": "https://localhost:8080/",
          "height": 106
        }
      },
      "source": [
        "# если мы создаем предобученную модель, то все слои, кроме последних полносвязных будут заморожены,\n",
        "# стоит помнить об этом при обучении\n",
        "model = create_cnn(data, models.vgg16_bn, metrics=accuracy)"
      ],
      "execution_count": 0,
      "outputs": [
        {
          "output_type": "stream",
          "text": [
            "/usr/local/lib/python3.6/dist-packages/fastai/vision/learner.py:106: UserWarning: `create_cnn` is deprecated and is now named `cnn_learner`.\n",
            "  warn(\"`create_cnn` is deprecated and is now named `cnn_learner`.\")\n",
            "Downloading: \"https://download.pytorch.org/models/vgg16_bn-6c64b313.pth\" to /root/.cache/torch/checkpoints/vgg16_bn-6c64b313.pth\n",
            "100%|██████████| 553507836/553507836 [00:22<00:00, 24221249.85it/s]\n"
          ],
          "name": "stderr"
        }
      ]
    },
    {
      "cell_type": "code",
      "metadata": {
        "colab_type": "code",
        "id": "UF6l_s_6MJ-U",
        "outputId": "63ffb1bd-c8c6-422d-cd42-d8808bd69d75",
        "colab": {
          "base_uri": "https://localhost:8080/",
          "height": 300
        }
      },
      "source": [
        "# Здесь мы используем lr_finder, чтобы выбрать скорость обучения\n",
        "model.lr_find()\n",
        "model.recorder.plot()"
      ],
      "execution_count": 0,
      "outputs": [
        {
          "output_type": "display_data",
          "data": {
            "text/html": [
              ""
            ],
            "text/plain": [
              "<IPython.core.display.HTML object>"
            ]
          },
          "metadata": {
            "tags": []
          }
        },
        {
          "output_type": "stream",
          "text": [
            "LR Finder is complete, type {learner_name}.recorder.plot() to see the graph.\n"
          ],
          "name": "stdout"
        },
        {
          "output_type": "display_data",
          "data": {
            "image/png": "[encoded data removed]",
            "text/plain": [
              "<Figure size 432x288 with 1 Axes>"
            ]
          },
          "metadata": {
            "tags": []
          }
        }
      ]
    },
    {
      "cell_type": "code",
      "metadata": {
        "colab_type": "code",
        "id": "Dc2DCQNPMJ-Y",
        "outputId": "d0f61979-bc07-4eae-c914-a67dc9989e0e",
        "colab": {
          "base_uri": "https://localhost:8080/",
          "height": 283
        }
      },
      "source": [
        "model.recorder.plot()"
      ],
      "execution_count": 0,
      "outputs": [
        {
          "output_type": "display_data",
          "data": {
            "image/png": "[encoded data removed]",
            "text/plain": [
              "<Figure size 432x288 with 1 Axes>"
            ]
          },
          "metadata": {
            "tags": []
          }
        }
      ]
    },
    {
      "cell_type": "markdown",
      "metadata": {
        "id": "FuP-jAP5M-QI",
        "colab_type": "text"
      },
      "source": [
        "Как мы видим, эффективно использовать learning rate в пределах 1е-05 до 1е-02."
      ]
    },
    {
      "cell_type": "code",
      "metadata": {
        "colab_type": "code",
        "id": "FP-je1NnMJ-b",
        "outputId": "13a644db-9abf-4732-cdf7-edf9c348e421",
        "colab": {
          "base_uri": "https://localhost:8080/",
          "height": 81
        }
      },
      "source": [
        "# используем 1cycle policy подрбнее https://docs.fast.ai/callbacks.one_cycle.html\n",
        "model.fit_one_cycle(1, 1e-01)"
      ],
      "execution_count": 0,
      "outputs": [
        {
          "output_type": "display_data",
          "data": {
            "text/html": [
              "<table border=\"1\" class=\"dataframe\">\n",
              "  <thead>\n",
              "    <tr style=\"text-align: left;\">\n",
              "      <th>epoch</th>\n",
              "      <th>train_loss</th>\n",
              "      <th>valid_loss</th>\n",
              "      <th>accuracy</th>\n",
              "      <th>time</th>\n",
              "    </tr>\n",
              "  </thead>\n",
              "  <tbody>\n",
              "    <tr>\n",
              "      <td>0</td>\n",
              "      <td>4.915517</td>\n",
              "      <td>5.649846</td>\n",
              "      <td>0.013783</td>\n",
              "      <td>1:14:25</td>\n",
              "    </tr>\n",
              "  </tbody>\n",
              "</table>"
            ],
            "text/plain": [
              "<IPython.core.display.HTML object>"
            ]
          },
          "metadata": {
            "tags": []
          }
        }
      ]
    },
    {
      "cell_type": "code",
      "metadata": {
        "colab_type": "code",
        "id": "HoOGUJzLMJ-d",
        "outputId": "1bb22c92-da5b-4119-d94f-da7a23311332",
        "scrolled": true,
        "colab": {
          "base_uri": "https://localhost:8080/",
          "height": 1000
        }
      },
      "source": [
        "# теперь мы хотим разморозить всю модель и продолжить finetuning \n",
        "# слои объединены в группы, для каждой группы слоев можно поставить свой learning rate\n",
        "# чтобы узнать, сколько есть групп, выведем их\n",
        "model.layer_groups"
      ],
      "execution_count": 0,
      "outputs": [
        {
          "output_type": "execute_result",
          "data": {
            "text/plain": [
              "[Sequential(\n",
              "   (0): Conv2d(3, 64, kernel_size=(3, 3), stride=(1, 1), padding=(1, 1))\n",
              "   (1): BatchNorm2d(64, eps=1e-05, momentum=0.1, affine=True, track_running_stats=True)\n",
              "   (2): ReLU(inplace)\n",
              "   (3): Conv2d(64, 64, kernel_size=(3, 3), stride=(1, 1), padding=(1, 1))\n",
              "   (4): BatchNorm2d(64, eps=1e-05, momentum=0.1, affine=True, track_running_stats=True)\n",
              "   (5): ReLU(inplace)\n",
              "   (6): MaxPool2d(kernel_size=2, stride=2, padding=0, dilation=1, ceil_mode=False)\n",
              "   (7): Conv2d(64, 128, kernel_size=(3, 3), stride=(1, 1), padding=(1, 1))\n",
              "   (8): BatchNorm2d(128, eps=1e-05, momentum=0.1, affine=True, track_running_stats=True)\n",
              "   (9): ReLU(inplace)\n",
              "   (10): Conv2d(128, 128, kernel_size=(3, 3), stride=(1, 1), padding=(1, 1))\n",
              "   (11): BatchNorm2d(128, eps=1e-05, momentum=0.1, affine=True, track_running_stats=True)\n",
              "   (12): ReLU(inplace)\n",
              "   (13): MaxPool2d(kernel_size=2, stride=2, padding=0, dilation=1, ceil_mode=False)\n",
              "   (14): Conv2d(128, 256, kernel_size=(3, 3), stride=(1, 1), padding=(1, 1))\n",
              "   (15): BatchNorm2d(256, eps=1e-05, momentum=0.1, affine=True, track_running_stats=True)\n",
              "   (16): ReLU(inplace)\n",
              "   (17): Conv2d(256, 256, kernel_size=(3, 3), stride=(1, 1), padding=(1, 1))\n",
              "   (18): BatchNorm2d(256, eps=1e-05, momentum=0.1, affine=True, track_running_stats=True)\n",
              "   (19): ReLU(inplace)\n",
              "   (20): Conv2d(256, 256, kernel_size=(3, 3), stride=(1, 1), padding=(1, 1))\n",
              "   (21): BatchNorm2d(256, eps=1e-05, momentum=0.1, affine=True, track_running_stats=True)\n",
              " ), Sequential(\n",
              "   (0): ReLU(inplace)\n",
              "   (1): MaxPool2d(kernel_size=2, stride=2, padding=0, dilation=1, ceil_mode=False)\n",
              "   (2): Conv2d(256, 512, kernel_size=(3, 3), stride=(1, 1), padding=(1, 1))\n",
              "   (3): BatchNorm2d(512, eps=1e-05, momentum=0.1, affine=True, track_running_stats=True)\n",
              "   (4): ReLU(inplace)\n",
              "   (5): Conv2d(512, 512, kernel_size=(3, 3), stride=(1, 1), padding=(1, 1))\n",
              "   (6): BatchNorm2d(512, eps=1e-05, momentum=0.1, affine=True, track_running_stats=True)\n",
              "   (7): ReLU(inplace)\n",
              "   (8): Conv2d(512, 512, kernel_size=(3, 3), stride=(1, 1), padding=(1, 1))\n",
              "   (9): BatchNorm2d(512, eps=1e-05, momentum=0.1, affine=True, track_running_stats=True)\n",
              "   (10): ReLU(inplace)\n",
              "   (11): MaxPool2d(kernel_size=2, stride=2, padding=0, dilation=1, ceil_mode=False)\n",
              "   (12): Conv2d(512, 512, kernel_size=(3, 3), stride=(1, 1), padding=(1, 1))\n",
              "   (13): BatchNorm2d(512, eps=1e-05, momentum=0.1, affine=True, track_running_stats=True)\n",
              "   (14): ReLU(inplace)\n",
              "   (15): Conv2d(512, 512, kernel_size=(3, 3), stride=(1, 1), padding=(1, 1))\n",
              "   (16): BatchNorm2d(512, eps=1e-05, momentum=0.1, affine=True, track_running_stats=True)\n",
              "   (17): ReLU(inplace)\n",
              "   (18): Conv2d(512, 512, kernel_size=(3, 3), stride=(1, 1), padding=(1, 1))\n",
              "   (19): BatchNorm2d(512, eps=1e-05, momentum=0.1, affine=True, track_running_stats=True)\n",
              "   (20): ReLU(inplace)\n",
              "   (21): MaxPool2d(kernel_size=2, stride=2, padding=0, dilation=1, ceil_mode=False)\n",
              "   (22): AdaptiveAvgPool2d(output_size=(7, 7))\n",
              " ), Sequential(\n",
              "   (0): AdaptiveAvgPool2d(output_size=1)\n",
              "   (1): AdaptiveMaxPool2d(output_size=1)\n",
              "   (2): Flatten()\n",
              "   (3): BatchNorm1d(1024, eps=1e-05, momentum=0.1, affine=True, track_running_stats=True)\n",
              "   (4): Dropout(p=0.25)\n",
              "   (5): Linear(in_features=1024, out_features=512, bias=True)\n",
              "   (6): ReLU(inplace)\n",
              "   (7): BatchNorm1d(512, eps=1e-05, momentum=0.1, affine=True, track_running_stats=True)\n",
              "   (8): Dropout(p=0.5)\n",
              "   (9): Linear(in_features=512, out_features=120, bias=True)\n",
              " )]"
            ]
          },
          "metadata": {
            "tags": []
          },
          "execution_count": 7
        }
      ]
    },
    {
      "cell_type": "code",
      "metadata": {
        "colab_type": "code",
        "id": "jZ6g_Es3MJ-f",
        "outputId": "7ebf10a5-5332-40ae-db6f-2ad9cacac23e",
        "colab": {
          "base_uri": "https://localhost:8080/",
          "height": 81
        }
      },
      "source": [
        "model.unfreeze()\n",
        "# установим learning rate для каждой из трех групп, делать их отличающимися на порядок\n",
        "# хорошая идея в большинстве случаев, при этом lr для последнего слоя мы нашли из lr_find\n",
        "model.fit_one_cycle(1, [1e-4, 1e-3, 1e-2])\n",
        "model.export()"
      ],
      "execution_count": 0,
      "outputs": [
        {
          "output_type": "display_data",
          "data": {
            "text/html": [
              "<table border=\"1\" class=\"dataframe\">\n",
              "  <thead>\n",
              "    <tr style=\"text-align: left;\">\n",
              "      <th>epoch</th>\n",
              "      <th>train_loss</th>\n",
              "      <th>valid_loss</th>\n",
              "      <th>accuracy</th>\n",
              "      <th>time</th>\n",
              "    </tr>\n",
              "  </thead>\n",
              "  <tbody>\n",
              "    <tr>\n",
              "      <td>0</td>\n",
              "      <td>2.319810</td>\n",
              "      <td>1.910291</td>\n",
              "      <td>0.484066</td>\n",
              "      <td>1:04:54</td>\n",
              "    </tr>\n",
              "  </tbody>\n",
              "</table>"
            ],
            "text/plain": [
              "<IPython.core.display.HTML object>"
            ]
          },
          "metadata": {
            "tags": []
          }
        }
      ]
    },
    {
      "cell_type": "code",
      "metadata": {
        "id": "0l3keoliJYYA",
        "colab_type": "code",
        "outputId": "f1359ce5-afae-428a-d1af-1e2c4e3d94e5",
        "colab": {
          "base_uri": "https://localhost:8080/",
          "height": 81
        }
      },
      "source": [
        "model.fit_one_cycle(2, [1e-4, 1e-3, 1e-2])"
      ],
      "execution_count": 0,
      "outputs": [
        {
          "output_type": "display_data",
          "data": {
            "text/html": [
              "<table border=\"1\" class=\"dataframe\">\n",
              "  <thead>\n",
              "    <tr style=\"text-align: left;\">\n",
              "      <th>epoch</th>\n",
              "      <th>train_loss</th>\n",
              "      <th>valid_loss</th>\n",
              "      <th>accuracy</th>\n",
              "      <th>time</th>\n",
              "    </tr>\n",
              "  </thead>\n",
              "  <tbody>\n",
              "    <tr>\n",
              "      <td>0</td>\n",
              "      <td>1.800419</td>\n",
              "      <td>1.624959</td>\n",
              "      <td>0.557999</td>\n",
              "      <td>14:58</td>\n",
              "    </tr>\n",
              "  </tbody>\n",
              "</table>"
            ],
            "text/plain": [
              "<IPython.core.display.HTML object>"
            ]
          },
          "metadata": {
            "tags": []
          }
        }
      ]
    },
    {
      "cell_type": "markdown",
      "metadata": {
        "id": "roQiAyp1ZuRR",
        "colab_type": "text"
      },
      "source": [
        "#resnext50_32x4d"
      ]
    },
    {
      "cell_type": "code",
      "metadata": {
        "id": "LkKki9hJeShl",
        "colab_type": "code",
        "colab": {
          "base_uri": "https://localhost:8080/",
          "height": 72
        },
        "outputId": "74559148-6e8c-4848-a491-9e8f6b7ab104"
      },
      "source": [
        "model_resnext = create_cnn(data, torchvision.models.resnext50_32x4d, metrics=accuracy)"
      ],
      "execution_count": 10,
      "outputs": [
        {
          "output_type": "stream",
          "text": [
            "/usr/local/lib/python3.6/dist-packages/fastai/vision/learner.py:106: UserWarning: `create_cnn` is deprecated and is now named `cnn_learner`.\n",
            "  warn(\"`create_cnn` is deprecated and is now named `cnn_learner`.\")\n"
          ],
          "name": "stderr"
        }
      ]
    },
    {
      "cell_type": "code",
      "metadata": {
        "id": "kFpEIZ9wf9YJ",
        "colab_type": "code",
        "colab": {
          "base_uri": "https://localhost:8080/",
          "height": 300
        },
        "outputId": "429711e4-8491-4874-f5d8-5a0a6081cb00"
      },
      "source": [
        "model_resnext.lr_find()\n",
        "model_resnext.recorder.plot()"
      ],
      "execution_count": 13,
      "outputs": [
        {
          "output_type": "display_data",
          "data": {
            "text/html": [
              ""
            ],
            "text/plain": [
              "<IPython.core.display.HTML object>"
            ]
          },
          "metadata": {
            "tags": []
          }
        },
        {
          "output_type": "stream",
          "text": [
            "LR Finder is complete, type {learner_name}.recorder.plot() to see the graph.\n"
          ],
          "name": "stdout"
        },
        {
          "output_type": "display_data",
          "data": {
            "image/png": "[encoded data removed]",
            "text/plain": [
              "<Figure size 432x288 with 1 Axes>"
            ]
          },
          "metadata": {
            "tags": []
          }
        }
      ]
    },
    {
      "cell_type": "code",
      "metadata": {
        "id": "qdjWaptSgaUc",
        "colab_type": "code",
        "colab": {
          "base_uri": "https://localhost:8080/",
          "height": 81
        },
        "outputId": "e30572f0-0096-44e0-9a27-71fac3a7b2a5"
      },
      "source": [
        "model_resnext.fit_one_cycle(1, 1e-02)"
      ],
      "execution_count": 11,
      "outputs": [
        {
          "output_type": "display_data",
          "data": {
            "text/html": [
              "<table border=\"1\" class=\"dataframe\">\n",
              "  <thead>\n",
              "    <tr style=\"text-align: left;\">\n",
              "      <th>epoch</th>\n",
              "      <th>train_loss</th>\n",
              "      <th>valid_loss</th>\n",
              "      <th>accuracy</th>\n",
              "      <th>time</th>\n",
              "    </tr>\n",
              "  </thead>\n",
              "  <tbody>\n",
              "    <tr>\n",
              "      <td>0</td>\n",
              "      <td>1.949468</td>\n",
              "      <td>1.472013</td>\n",
              "      <td>0.598231</td>\n",
              "      <td>1:11:58</td>\n",
              "    </tr>\n",
              "  </tbody>\n",
              "</table>"
            ],
            "text/plain": [
              "<IPython.core.display.HTML object>"
            ]
          },
          "metadata": {
            "tags": []
          }
        }
      ]
    },
    {
      "cell_type": "code",
      "metadata": {
        "id": "oNLeFzpRiQAB",
        "colab_type": "code",
        "colab": {
          "base_uri": "https://localhost:8080/",
          "height": 144
        },
        "outputId": "1a0bcfb8-e457-43ef-fb77-411235578873"
      },
      "source": [
        "model_resnext.unfreeze()\n",
        "model_resnext.fit_one_cycle(3, [1e-3, 1e-2])\n",
        "model_resnext.export()"
      ],
      "execution_count": 15,
      "outputs": [
        {
          "output_type": "display_data",
          "data": {
            "text/html": [
              "<table border=\"1\" class=\"dataframe\">\n",
              "  <thead>\n",
              "    <tr style=\"text-align: left;\">\n",
              "      <th>epoch</th>\n",
              "      <th>train_loss</th>\n",
              "      <th>valid_loss</th>\n",
              "      <th>accuracy</th>\n",
              "      <th>time</th>\n",
              "    </tr>\n",
              "  </thead>\n",
              "  <tbody>\n",
              "    <tr>\n",
              "      <td>0</td>\n",
              "      <td>4.873209</td>\n",
              "      <td>11.266698</td>\n",
              "      <td>0.016332</td>\n",
              "      <td>08:17</td>\n",
              "    </tr>\n",
              "    <tr>\n",
              "      <td>1</td>\n",
              "      <td>4.884483</td>\n",
              "      <td>11.952904</td>\n",
              "      <td>0.010915</td>\n",
              "      <td>08:14</td>\n",
              "    </tr>\n",
              "    <tr>\n",
              "      <td>2</td>\n",
              "      <td>4.754571</td>\n",
              "      <td>5.391190</td>\n",
              "      <td>0.016969</td>\n",
              "      <td>08:15</td>\n",
              "    </tr>\n",
              "  </tbody>\n",
              "</table>"
            ],
            "text/plain": [
              "<IPython.core.display.HTML object>"
            ]
          },
          "metadata": {
            "tags": []
          }
        }
      ]
    },
    {
      "cell_type": "markdown",
      "metadata": {
        "id": "8PS7yU22rB-U",
        "colab_type": "text"
      },
      "source": [
        "Как видим, после заморозки слоев обучение идет намного медленнее и accuracy не поднимается выше 0,01. Поэтому, обучение здесь, в отличии от VGG16 будем производить только на последнем слое."
      ]
    },
    {
      "cell_type": "code",
      "metadata": {
        "id": "rbpea95hrWqv",
        "colab_type": "code",
        "colab": {
          "base_uri": "https://localhost:8080/",
          "height": 72
        },
        "outputId": "9b4f705e-c182-4a11-db24-737f8ce27a68"
      },
      "source": [
        "model_resnext = create_cnn(data, torchvision.models.resnext50_32x4d, metrics=accuracy)"
      ],
      "execution_count": 16,
      "outputs": [
        {
          "output_type": "stream",
          "text": [
            "/usr/local/lib/python3.6/dist-packages/fastai/vision/learner.py:106: UserWarning: `create_cnn` is deprecated and is now named `cnn_learner`.\n",
            "  warn(\"`create_cnn` is deprecated and is now named `cnn_learner`.\")\n"
          ],
          "name": "stderr"
        }
      ]
    },
    {
      "cell_type": "code",
      "metadata": {
        "id": "pqksiYQ3rgGw",
        "colab_type": "code",
        "colab": {
          "base_uri": "https://localhost:8080/",
          "height": 144
        },
        "outputId": "871a2523-cc04-491b-fa3f-ba51ac53edee"
      },
      "source": [
        "model_resnext.fit_one_cycle(3, 1e-02)"
      ],
      "execution_count": 17,
      "outputs": [
        {
          "output_type": "display_data",
          "data": {
            "text/html": [
              "<table border=\"1\" class=\"dataframe\">\n",
              "  <thead>\n",
              "    <tr style=\"text-align: left;\">\n",
              "      <th>epoch</th>\n",
              "      <th>train_loss</th>\n",
              "      <th>valid_loss</th>\n",
              "      <th>accuracy</th>\n",
              "      <th>time</th>\n",
              "    </tr>\n",
              "  </thead>\n",
              "  <tbody>\n",
              "    <tr>\n",
              "      <td>0</td>\n",
              "      <td>3.110857</td>\n",
              "      <td>2.643168</td>\n",
              "      <td>0.320746</td>\n",
              "      <td>07:33</td>\n",
              "    </tr>\n",
              "    <tr>\n",
              "      <td>1</td>\n",
              "      <td>2.147505</td>\n",
              "      <td>1.780908</td>\n",
              "      <td>0.561982</td>\n",
              "      <td>07:34</td>\n",
              "    </tr>\n",
              "    <tr>\n",
              "      <td>2</td>\n",
              "      <td>1.577145</td>\n",
              "      <td>1.724624</td>\n",
              "      <td>0.633047</td>\n",
              "      <td>07:33</td>\n",
              "    </tr>\n",
              "  </tbody>\n",
              "</table>"
            ],
            "text/plain": [
              "<IPython.core.display.HTML object>"
            ]
          },
          "metadata": {
            "tags": []
          }
        }
      ]
    },
    {
      "cell_type": "code",
      "metadata": {
        "id": "4XbXCcBLx2JQ",
        "colab_type": "code",
        "colab": {}
      },
      "source": [
        "model_resnext.export()"
      ],
      "execution_count": 0,
      "outputs": []
    },
    {
      "cell_type": "markdown",
      "metadata": {
        "id": "DYsMpPtM4mlH",
        "colab_type": "text"
      },
      "source": [
        "#shufflenet_v2"
      ]
    },
    {
      "cell_type": "code",
      "metadata": {
        "id": "bnTzp_zH4xPn",
        "colab_type": "code",
        "colab": {
          "base_uri": "https://localhost:8080/",
          "height": 106
        },
        "outputId": "922f8de1-03d7-4569-aa8c-e59d2b28f946"
      },
      "source": [
        "model_shuffЫlenet = create_cnn(data, torchvision.models.shufflenet_v2_x1_0, metrics=accuracy)"
      ],
      "execution_count": 20,
      "outputs": [
        {
          "output_type": "stream",
          "text": [
            "/usr/local/lib/python3.6/dist-packages/fastai/vision/learner.py:106: UserWarning: `create_cnn` is deprecated and is now named `cnn_learner`.\n",
            "  warn(\"`create_cnn` is deprecated and is now named `cnn_learner`.\")\n",
            "Downloading: \"https://download.pytorch.org/models/shufflenetv2_x1-5666bf0f80.pth\" to /root/.cache/torch/checkpoints/shufflenetv2_x1-5666bf0f80.pth\n",
            "100%|██████████| 9218294/9218294 [00:00<00:00, 38013722.54it/s]\n"
          ],
          "name": "stderr"
        }
      ]
    },
    {
      "cell_type": "code",
      "metadata": {
        "id": "pvdvSOrX5FOU",
        "colab_type": "code",
        "colab": {
          "base_uri": "https://localhost:8080/",
          "height": 300
        },
        "outputId": "c7a93174-26fd-43a7-ae61-d19ce94abf79"
      },
      "source": [
        "model_shufflenet.lr_find()\n",
        "model_shufflenet.recorder.plot()"
      ],
      "execution_count": 21,
      "outputs": [
        {
          "output_type": "display_data",
          "data": {
            "text/html": [
              ""
            ],
            "text/plain": [
              "<IPython.core.display.HTML object>"
            ]
          },
          "metadata": {
            "tags": []
          }
        },
        {
          "output_type": "stream",
          "text": [
            "LR Finder is complete, type {learner_name}.recorder.plot() to see the graph.\n"
          ],
          "name": "stdout"
        },
        {
          "output_type": "display_data",
          "data": {
            "image/png": "[encoded data removed]",
            "text/plain": [
              "<Figure size 432x288 with 1 Axes>"
            ]
          },
          "metadata": {
            "tags": []
          }
        }
      ]
    },
    {
      "cell_type": "code",
      "metadata": {
        "id": "_b6P4uBs5k8F",
        "colab_type": "code",
        "colab": {
          "base_uri": "https://localhost:8080/",
          "height": 144
        },
        "outputId": "59b0e574-f958-4c1a-c0ba-e137c8111e84"
      },
      "source": [
        "model_shufflenet.fit_one_cycle(3, 1e-02)"
      ],
      "execution_count": 22,
      "outputs": [
        {
          "output_type": "display_data",
          "data": {
            "text/html": [
              "<table border=\"1\" class=\"dataframe\">\n",
              "  <thead>\n",
              "    <tr style=\"text-align: left;\">\n",
              "      <th>epoch</th>\n",
              "      <th>train_loss</th>\n",
              "      <th>valid_loss</th>\n",
              "      <th>accuracy</th>\n",
              "      <th>time</th>\n",
              "    </tr>\n",
              "  </thead>\n",
              "  <tbody>\n",
              "    <tr>\n",
              "      <td>0</td>\n",
              "      <td>4.900967</td>\n",
              "      <td>4.812825</td>\n",
              "      <td>0.011871</td>\n",
              "      <td>06:03</td>\n",
              "    </tr>\n",
              "    <tr>\n",
              "      <td>1</td>\n",
              "      <td>4.823128</td>\n",
              "      <td>4.752067</td>\n",
              "      <td>0.015137</td>\n",
              "      <td>06:02</td>\n",
              "    </tr>\n",
              "    <tr>\n",
              "      <td>2</td>\n",
              "      <td>4.734108</td>\n",
              "      <td>4.690775</td>\n",
              "      <td>0.017607</td>\n",
              "      <td>05:57</td>\n",
              "    </tr>\n",
              "  </tbody>\n",
              "</table>"
            ],
            "text/plain": [
              "<IPython.core.display.HTML object>"
            ]
          },
          "metadata": {
            "tags": []
          }
        }
      ]
    },
    {
      "cell_type": "code",
      "metadata": {
        "id": "fR1cunRr8jOH",
        "colab_type": "code",
        "colab": {
          "base_uri": "https://localhost:8080/",
          "height": 144
        },
        "outputId": "b40425a4-f621-43a3-93b8-ce4e9d2640c2"
      },
      "source": [
        "model_resnext.unfreeze()\n",
        "model_resnext.fit_one_cycle(3, [1e-3, 1e-2])"
      ],
      "execution_count": 23,
      "outputs": [
        {
          "output_type": "display_data",
          "data": {
            "text/html": [
              "<table border=\"1\" class=\"dataframe\">\n",
              "  <thead>\n",
              "    <tr style=\"text-align: left;\">\n",
              "      <th>epoch</th>\n",
              "      <th>train_loss</th>\n",
              "      <th>valid_loss</th>\n",
              "      <th>accuracy</th>\n",
              "      <th>time</th>\n",
              "    </tr>\n",
              "  </thead>\n",
              "  <tbody>\n",
              "    <tr>\n",
              "      <td>0</td>\n",
              "      <td>4.682427</td>\n",
              "      <td>84.443398</td>\n",
              "      <td>0.034736</td>\n",
              "      <td>08:13</td>\n",
              "    </tr>\n",
              "    <tr>\n",
              "      <td>1</td>\n",
              "      <td>3.388238</td>\n",
              "      <td>20.524326</td>\n",
              "      <td>0.201880</td>\n",
              "      <td>08:18</td>\n",
              "    </tr>\n",
              "    <tr>\n",
              "      <td>2</td>\n",
              "      <td>2.733845</td>\n",
              "      <td>35.983433</td>\n",
              "      <td>0.314213</td>\n",
              "      <td>08:13</td>\n",
              "    </tr>\n",
              "  </tbody>\n",
              "</table>"
            ],
            "text/plain": [
              "<IPython.core.display.HTML object>"
            ]
          },
          "metadata": {
            "tags": []
          }
        }
      ]
    },
    {
      "cell_type": "code",
      "metadata": {
        "id": "p5Hl3ejxIe_-",
        "colab_type": "code",
        "colab": {}
      },
      "source": [
        "model_resnext.export()"
      ],
      "execution_count": 0,
      "outputs": []
    },
    {
      "cell_type": "markdown",
      "metadata": {
        "id": "9lyIvyEoJJ2m",
        "colab_type": "text"
      },
      "source": [
        "#googlenet\n"
      ]
    },
    {
      "cell_type": "code",
      "metadata": {
        "id": "bwM2umhBJPYd",
        "colab_type": "code",
        "colab": {
          "base_uri": "https://localhost:8080/",
          "height": 106
        },
        "outputId": "d7e77980-07cd-42b8-f781-5ed5b1e159ec"
      },
      "source": [
        "model_googlenet = create_cnn(data, torchvision.models.googlenet, metrics=accuracy)"
      ],
      "execution_count": 26,
      "outputs": [
        {
          "output_type": "stream",
          "text": [
            "/usr/local/lib/python3.6/dist-packages/fastai/vision/learner.py:106: UserWarning: `create_cnn` is deprecated and is now named `cnn_learner`.\n",
            "  warn(\"`create_cnn` is deprecated and is now named `cnn_learner`.\")\n",
            "Downloading: \"https://download.pytorch.org/models/googlenet-1378be20.pth\" to /root/.cache/torch/checkpoints/googlenet-1378be20.pth\n",
            "100%|██████████| 52147035/52147035 [00:01<00:00, 44549432.50it/s]\n"
          ],
          "name": "stderr"
        }
      ]
    },
    {
      "cell_type": "code",
      "metadata": {
        "id": "WKRkrAtfJYTm",
        "colab_type": "code",
        "colab": {
          "base_uri": "https://localhost:8080/",
          "height": 300
        },
        "outputId": "e14a7959-2be4-4f92-9509-b3c59b81c63d"
      },
      "source": [
        "model_googlenet.lr_find()\n",
        "model_googlenet.recorder.plot()"
      ],
      "execution_count": 27,
      "outputs": [
        {
          "output_type": "display_data",
          "data": {
            "text/html": [
              ""
            ],
            "text/plain": [
              "<IPython.core.display.HTML object>"
            ]
          },
          "metadata": {
            "tags": []
          }
        },
        {
          "output_type": "stream",
          "text": [
            "LR Finder is complete, type {learner_name}.recorder.plot() to see the graph.\n"
          ],
          "name": "stdout"
        },
        {
          "output_type": "display_data",
          "data": {
            "image/png": "[encoded data removed]",
            "text/plain": [
              "<Figure size 432x288 with 1 Axes>"
            ]
          },
          "metadata": {
            "tags": []
          }
        }
      ]
    },
    {
      "cell_type": "code",
      "metadata": {
        "id": "OjBIENiXJsBQ",
        "colab_type": "code",
        "colab": {
          "base_uri": "https://localhost:8080/",
          "height": 144
        },
        "outputId": "cdc05ddb-873a-4a6e-b1ab-0e8745c079d5"
      },
      "source": [
        "model_googlenet.fit_one_cycle(3, 1e-02)"
      ],
      "execution_count": 28,
      "outputs": [
        {
          "output_type": "display_data",
          "data": {
            "text/html": [
              "<table border=\"1\" class=\"dataframe\">\n",
              "  <thead>\n",
              "    <tr style=\"text-align: left;\">\n",
              "      <th>epoch</th>\n",
              "      <th>train_loss</th>\n",
              "      <th>valid_loss</th>\n",
              "      <th>accuracy</th>\n",
              "      <th>time</th>\n",
              "    </tr>\n",
              "  </thead>\n",
              "  <tbody>\n",
              "    <tr>\n",
              "      <td>0</td>\n",
              "      <td>2.057178</td>\n",
              "      <td>1.741865</td>\n",
              "      <td>0.544057</td>\n",
              "      <td>06:35</td>\n",
              "    </tr>\n",
              "    <tr>\n",
              "      <td>1</td>\n",
              "      <td>1.701492</td>\n",
              "      <td>1.318141</td>\n",
              "      <td>0.636472</td>\n",
              "      <td>06:32</td>\n",
              "    </tr>\n",
              "    <tr>\n",
              "      <td>2</td>\n",
              "      <td>1.202761</td>\n",
              "      <td>1.166526</td>\n",
              "      <td>0.683875</td>\n",
              "      <td>06:32</td>\n",
              "    </tr>\n",
              "  </tbody>\n",
              "</table>"
            ],
            "text/plain": [
              "<IPython.core.display.HTML object>"
            ]
          },
          "metadata": {
            "tags": []
          }
        }
      ]
    },
    {
      "cell_type": "code",
      "metadata": {
        "id": "Ppazsdc9OgCz",
        "colab_type": "code",
        "colab": {}
      },
      "source": [
        "model_googlenet.export()"
      ],
      "execution_count": 0,
      "outputs": []
    },
    {
      "cell_type": "code",
      "metadata": {
        "id": "EnvUC8wjOkyg",
        "colab_type": "code",
        "colab": {
          "base_uri": "https://localhost:8080/",
          "height": 144
        },
        "outputId": "a9d67846-98be-4d7c-a8a6-de3393be145c"
      },
      "source": [
        "model_googlenet.unfreeze()\n",
        "model_googlenet.fit_one_cycle(3, [1e-03, 1e-02])"
      ],
      "execution_count": 30,
      "outputs": [
        {
          "output_type": "display_data",
          "data": {
            "text/html": [
              "<table border=\"1\" class=\"dataframe\">\n",
              "  <thead>\n",
              "    <tr style=\"text-align: left;\">\n",
              "      <th>epoch</th>\n",
              "      <th>train_loss</th>\n",
              "      <th>valid_loss</th>\n",
              "      <th>accuracy</th>\n",
              "      <th>time</th>\n",
              "    </tr>\n",
              "  </thead>\n",
              "  <tbody>\n",
              "    <tr>\n",
              "      <td>0</td>\n",
              "      <td>3.353034</td>\n",
              "      <td>3.984205</td>\n",
              "      <td>0.148502</td>\n",
              "      <td>06:42</td>\n",
              "    </tr>\n",
              "    <tr>\n",
              "      <td>1</td>\n",
              "      <td>2.370401</td>\n",
              "      <td>1.995113</td>\n",
              "      <td>0.466619</td>\n",
              "      <td>06:42</td>\n",
              "    </tr>\n",
              "    <tr>\n",
              "      <td>2</td>\n",
              "      <td>1.615225</td>\n",
              "      <td>1.496693</td>\n",
              "      <td>0.599506</td>\n",
              "      <td>06:44</td>\n",
              "    </tr>\n",
              "  </tbody>\n",
              "</table>"
            ],
            "text/plain": [
              "<IPython.core.display.HTML object>"
            ]
          },
          "metadata": {
            "tags": []
          }
        }
      ]
    },
    {
      "cell_type": "markdown",
      "metadata": {
        "id": "XhThwWmgUqwe",
        "colab_type": "text"
      },
      "source": [
        "Здесь при разморозке слоев примерно равный score с тем, что получается при обучении только на последнем слое. Но, все же при обучении только на последнем слое он чуть выше. Да и в принципе здесь самый высокий score среди всех архитектур. "
      ]
    },
    {
      "cell_type": "markdown",
      "metadata": {
        "id": "WQ5-oXW8YrCK",
        "colab_type": "text"
      },
      "source": [
        "При работе бота я использовал именно эту модель, но на самом деле при реальных тестах на своем карликовом пинчере и той-терьере, resnext определил точно породу, в отличии от этой модели. Поэтому в дальнейшем использовал я именно resnext."
      ]
    }
  ]
}