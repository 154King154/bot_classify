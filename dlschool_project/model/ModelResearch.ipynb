{
  "nbformat": 4,
  "nbformat_minor": 0,
  "metadata": {
    "colab": {
      "name": "ModelResearch.ipynb",
      "version": "0.3.2",
      "provenance": [],
      "collapsed_sections": [],
      "toc_visible": true
    },
    "language_info": {
      "codemirror_mode": {
        "name": "ipython",
        "version": 3
      },
      "file_extension": ".py",
      "mimetype": "text/x-python",
      "name": "python",
      "nbconvert_exporter": "python",
      "pygments_lexer": "ipython3",
      "version": "3.6.7"
    },
    "kernelspec": {
      "name": "python3",
      "display_name": "Python 3"
    },
    "accelerator": "GPU"
  },
  "cells": [
    {
      "cell_type": "markdown",
      "metadata": {
        "colab_type": "text",
        "id": "GTERpyBRMJ-I"
      },
      "source": [
        "# Разработка модели"
      ]
    },
    {
      "cell_type": "markdown",
      "metadata": {
        "id": "fpUNaGcNU_Bc",
        "colab_type": "text"
      },
      "source": [
        "https://github.com/154King154/bot_classify - репозиторий проекта"
      ]
    },
    {
      "cell_type": "code",
      "metadata": {
        "colab_type": "code",
        "id": "koxANEBvMJ-K",
        "colab": {}
      },
      "source": [
        "from __future__ import print_function, division\n",
        "\n",
        "import torch\n",
        "import torch.nn as nn\n",
        "import torch.optim as optim\n",
        "from torch.optim import lr_scheduler\n",
        "\n",
        "import numpy as np\n",
        "import torchvision\n",
        "from torchvision import datasets, models, transforms\n",
        "import matplotlib.pyplot as plt\n",
        "import time\n",
        "import os\n",
        "\n",
        "from fastai.vision import *\n",
        "\n",
        "plt.ion()"
      ],
      "execution_count": 0,
      "outputs": []
    },
    {
      "cell_type": "markdown",
      "metadata": {
        "colab_type": "text",
        "id": "8MlIw-sIMJ-O"
      },
      "source": [
        "# В этой части нужно загрузить датасет, разделить его на тренировочную и валидационную выборки и разложить картинки по папкам, чтобы в одной папке лежали картинки одного класса.\n",
        "\n"
      ]
    },
    {
      "cell_type": "markdown",
      "metadata": {
        "colab_type": "text",
        "id": "2nBRYKk7MJ-O"
      },
      "source": [
        "Используемый мной датасет https://www.kaggle.com/jessicali9530/stanford-dogs-dataset/\n",
        "Его я использовал полностью как train, a для validation собирал картинки в гугле, примерно еще 8500 картинок.\n",
        "Обучение происходило в колабе, т.к. компьютер чуточку не потянул."
      ]
    },
    {
      "cell_type": "code",
      "metadata": {
        "id": "zm2C4fbqGGWL",
        "colab_type": "code",
        "outputId": "bfbb0f1f-3a96-4121-81b5-0236d2b0db49",
        "colab": {
          "base_uri": "https://localhost:8080/",
          "height": 54
        }
      },
      "source": [
        "from google.colab import drive\n",
        "drive.mount('/content/drive/')\n",
        "#/content/drive/Team Drives/mlearn\n",
        "#path to files "
      ],
      "execution_count": 0,
      "outputs": [
        {
          "output_type": "stream",
          "text": [
            "Drive already mounted at /content/drive/; to attempt to forcibly remount, call drive.mount(\"/content/drive/\", force_remount=True).\n"
          ],
          "name": "stdout"
        }
      ]
    },
    {
      "cell_type": "code",
      "metadata": {
        "colab_type": "code",
        "id": "IzAEDyVtMJ-P",
        "outputId": "a7061c58-d7a1-4939-a6f0-c5bc80ba1ce6",
        "colab": {
          "base_uri": "https://localhost:8080/",
          "height": 34
        }
      },
      "source": [
        "from pathlib import Path\n",
        "#PATH = Path('/home/alex/dogs_dataset/')\n",
        "PATH = Path('/content/drive/My Drive/dlschool_project/data_dogs')\n",
        "print(PATH)\n",
        "tfms = get_transforms(do_flip=True,\n",
        "                     flip_vert=False,\n",
        "                     max_rotate=10.0,\n",
        "                     max_zoom=0.5,\n",
        "                     max_lighting=0.9,\n",
        "                     max_warp=0.2)\n",
        "data = ImageDataBunch.from_folder(PATH, ds_tfms=tfms, bs=16, size=256)"
      ],
      "execution_count": 0,
      "outputs": [
        {
          "output_type": "stream",
          "text": [
            "/content/drive/My Drive/dlschool_project/data_dogs\n"
          ],
          "name": "stdout"
        }
      ]
    },
    {
      "cell_type": "markdown",
      "metadata": {
        "colab_type": "text",
        "id": "G3Qx2p5MMJ-R"
      },
      "source": [
        "# Теперь перейдем к созданию модели"
      ]
    },
    {
      "cell_type": "code",
      "metadata": {
        "colab_type": "code",
        "id": "Vsl6c63zMJ-S",
        "outputId": "f4527aa3-3e7e-402c-d357-47585d53c515",
        "colab": {
          "base_uri": "https://localhost:8080/",
          "height": 106
        }
      },
      "source": [
        "# если мы создаем предобученную модель, то все слои, кроме последних полносвязных будут заморожены,\n",
        "# стоит помнить об этом при обучении\n",
        "model = create_cnn(data, models.vgg16_bn, metrics=accuracy)"
      ],
      "execution_count": 0,
      "outputs": [
        {
          "output_type": "stream",
          "text": [
            "/usr/local/lib/python3.6/dist-packages/fastai/vision/learner.py:106: UserWarning: `create_cnn` is deprecated and is now named `cnn_learner`.\n",
            "  warn(\"`create_cnn` is deprecated and is now named `cnn_learner`.\")\n",
            "Downloading: \"https://download.pytorch.org/models/vgg16_bn-6c64b313.pth\" to /root/.cache/torch/checkpoints/vgg16_bn-6c64b313.pth\n",
            "100%|██████████| 553507836/553507836 [00:22<00:00, 24221249.85it/s]\n"
          ],
          "name": "stderr"
        }
      ]
    },
    {
      "cell_type": "markdown",
      "metadata": {
        "id": "HXURvsBvMbK-",
        "colab_type": "text"
      },
      "source": [
        "Я изучил решения классификации собак по этому датасету на кагле (Kernels) и увидел, что самым эффективным вариантом из всех является vgg16. Accur в данном случае может достигать 80% .\n",
        "\n"
      ]
    },
    {
      "cell_type": "markdown",
      "metadata": {
        "colab_type": "text",
        "id": "jCzfsfnyMJ-U"
      },
      "source": [
        "# Осталось обучить модель и проверить ее точность."
      ]
    },
    {
      "cell_type": "code",
      "metadata": {
        "colab_type": "code",
        "id": "UF6l_s_6MJ-U",
        "outputId": "63ffb1bd-c8c6-422d-cd42-d8808bd69d75",
        "colab": {
          "base_uri": "https://localhost:8080/",
          "height": 300
        }
      },
      "source": [
        "# Здесь мы используем lr_finder, чтобы выбрать скорость обучения\n",
        "model.lr_find()\n",
        "model.recorder.plot()"
      ],
      "execution_count": 0,
      "outputs": [
        {
          "output_type": "display_data",
          "data": {
            "text/html": [
              ""
            ],
            "text/plain": [
              "<IPython.core.display.HTML object>"
            ]
          },
          "metadata": {
            "tags": []
          }
        },
        {
          "output_type": "stream",
          "text": [
            "LR Finder is complete, type {learner_name}.recorder.plot() to see the graph.\n"
          ],
          "name": "stdout"
        },
        {
          "output_type": "display_data",
          "data": {
            "image/png": "[encoded data removed]",
            "text/plain": [
              "<Figure size 432x288 with 1 Axes>"
            ]
          },
          "metadata": {
            "tags": []
          }
        }
      ]
    },
    {
      "cell_type": "code",
      "metadata": {
        "colab_type": "code",
        "id": "Dc2DCQNPMJ-Y",
        "outputId": "d0f61979-bc07-4eae-c914-a67dc9989e0e",
        "colab": {
          "base_uri": "https://localhost:8080/",
          "height": 283
        }
      },
      "source": [
        "model.recorder.plot()"
      ],
      "execution_count": 0,
      "outputs": [
        {
          "output_type": "display_data",
          "data": {
            "image/png": "[encoded data removed]",
            "text/plain": [
              "<Figure size 432x288 with 1 Axes>"
            ]
          },
          "metadata": {
            "tags": []
          }
        }
      ]
    },
    {
      "cell_type": "markdown",
      "metadata": {
        "id": "FuP-jAP5M-QI",
        "colab_type": "text"
      },
      "source": [
        "Как мы видим, эффективно использовать learning rate в пределах 1е-05 до 1е-02."
      ]
    },
    {
      "cell_type": "code",
      "metadata": {
        "colab_type": "code",
        "id": "FP-je1NnMJ-b",
        "outputId": "13a644db-9abf-4732-cdf7-edf9c348e421",
        "colab": {
          "base_uri": "https://localhost:8080/",
          "height": 81
        }
      },
      "source": [
        "# используем 1cycle policy подрбнее https://docs.fast.ai/callbacks.one_cycle.html\n",
        "model.fit_one_cycle(1, 1e-01)"
      ],
      "execution_count": 0,
      "outputs": [
        {
          "output_type": "display_data",
          "data": {
            "text/html": [
              "<table border=\"1\" class=\"dataframe\">\n",
              "  <thead>\n",
              "    <tr style=\"text-align: left;\">\n",
              "      <th>epoch</th>\n",
              "      <th>train_loss</th>\n",
              "      <th>valid_loss</th>\n",
              "      <th>accuracy</th>\n",
              "      <th>time</th>\n",
              "    </tr>\n",
              "  </thead>\n",
              "  <tbody>\n",
              "    <tr>\n",
              "      <td>0</td>\n",
              "      <td>4.915517</td>\n",
              "      <td>5.649846</td>\n",
              "      <td>0.013783</td>\n",
              "      <td>1:14:25</td>\n",
              "    </tr>\n",
              "  </tbody>\n",
              "</table>"
            ],
            "text/plain": [
              "<IPython.core.display.HTML object>"
            ]
          },
          "metadata": {
            "tags": []
          }
        }
      ]
    },
    {
      "cell_type": "code",
      "metadata": {
        "colab_type": "code",
        "id": "HoOGUJzLMJ-d",
        "outputId": "1bb22c92-da5b-4119-d94f-da7a23311332",
        "scrolled": true,
        "colab": {
          "base_uri": "https://localhost:8080/",
          "height": 1000
        }
      },
      "source": [
        "# теперь мы хотим разморозить всю модель и продолжить finetuning \n",
        "# слои объединены в группы, для каждой группы слоев можно поставить свой learning rate\n",
        "# чтобы узнать, сколько есть групп, выведем их\n",
        "model.layer_groups"
      ],
      "execution_count": 0,
      "outputs": [
        {
          "output_type": "execute_result",
          "data": {
            "text/plain": [
              "[Sequential(\n",
              "   (0): Conv2d(3, 64, kernel_size=(3, 3), stride=(1, 1), padding=(1, 1))\n",
              "   (1): BatchNorm2d(64, eps=1e-05, momentum=0.1, affine=True, track_running_stats=True)\n",
              "   (2): ReLU(inplace)\n",
              "   (3): Conv2d(64, 64, kernel_size=(3, 3), stride=(1, 1), padding=(1, 1))\n",
              "   (4): BatchNorm2d(64, eps=1e-05, momentum=0.1, affine=True, track_running_stats=True)\n",
              "   (5): ReLU(inplace)\n",
              "   (6): MaxPool2d(kernel_size=2, stride=2, padding=0, dilation=1, ceil_mode=False)\n",
              "   (7): Conv2d(64, 128, kernel_size=(3, 3), stride=(1, 1), padding=(1, 1))\n",
              "   (8): BatchNorm2d(128, eps=1e-05, momentum=0.1, affine=True, track_running_stats=True)\n",
              "   (9): ReLU(inplace)\n",
              "   (10): Conv2d(128, 128, kernel_size=(3, 3), stride=(1, 1), padding=(1, 1))\n",
              "   (11): BatchNorm2d(128, eps=1e-05, momentum=0.1, affine=True, track_running_stats=True)\n",
              "   (12): ReLU(inplace)\n",
              "   (13): MaxPool2d(kernel_size=2, stride=2, padding=0, dilation=1, ceil_mode=False)\n",
              "   (14): Conv2d(128, 256, kernel_size=(3, 3), stride=(1, 1), padding=(1, 1))\n",
              "   (15): BatchNorm2d(256, eps=1e-05, momentum=0.1, affine=True, track_running_stats=True)\n",
              "   (16): ReLU(inplace)\n",
              "   (17): Conv2d(256, 256, kernel_size=(3, 3), stride=(1, 1), padding=(1, 1))\n",
              "   (18): BatchNorm2d(256, eps=1e-05, momentum=0.1, affine=True, track_running_stats=True)\n",
              "   (19): ReLU(inplace)\n",
              "   (20): Conv2d(256, 256, kernel_size=(3, 3), stride=(1, 1), padding=(1, 1))\n",
              "   (21): BatchNorm2d(256, eps=1e-05, momentum=0.1, affine=True, track_running_stats=True)\n",
              " ), Sequential(\n",
              "   (0): ReLU(inplace)\n",
              "   (1): MaxPool2d(kernel_size=2, stride=2, padding=0, dilation=1, ceil_mode=False)\n",
              "   (2): Conv2d(256, 512, kernel_size=(3, 3), stride=(1, 1), padding=(1, 1))\n",
              "   (3): BatchNorm2d(512, eps=1e-05, momentum=0.1, affine=True, track_running_stats=True)\n",
              "   (4): ReLU(inplace)\n",
              "   (5): Conv2d(512, 512, kernel_size=(3, 3), stride=(1, 1), padding=(1, 1))\n",
              "   (6): BatchNorm2d(512, eps=1e-05, momentum=0.1, affine=True, track_running_stats=True)\n",
              "   (7): ReLU(inplace)\n",
              "   (8): Conv2d(512, 512, kernel_size=(3, 3), stride=(1, 1), padding=(1, 1))\n",
              "   (9): BatchNorm2d(512, eps=1e-05, momentum=0.1, affine=True, track_running_stats=True)\n",
              "   (10): ReLU(inplace)\n",
              "   (11): MaxPool2d(kernel_size=2, stride=2, padding=0, dilation=1, ceil_mode=False)\n",
              "   (12): Conv2d(512, 512, kernel_size=(3, 3), stride=(1, 1), padding=(1, 1))\n",
              "   (13): BatchNorm2d(512, eps=1e-05, momentum=0.1, affine=True, track_running_stats=True)\n",
              "   (14): ReLU(inplace)\n",
              "   (15): Conv2d(512, 512, kernel_size=(3, 3), stride=(1, 1), padding=(1, 1))\n",
              "   (16): BatchNorm2d(512, eps=1e-05, momentum=0.1, affine=True, track_running_stats=True)\n",
              "   (17): ReLU(inplace)\n",
              "   (18): Conv2d(512, 512, kernel_size=(3, 3), stride=(1, 1), padding=(1, 1))\n",
              "   (19): BatchNorm2d(512, eps=1e-05, momentum=0.1, affine=True, track_running_stats=True)\n",
              "   (20): ReLU(inplace)\n",
              "   (21): MaxPool2d(kernel_size=2, stride=2, padding=0, dilation=1, ceil_mode=False)\n",
              "   (22): AdaptiveAvgPool2d(output_size=(7, 7))\n",
              " ), Sequential(\n",
              "   (0): AdaptiveAvgPool2d(output_size=1)\n",
              "   (1): AdaptiveMaxPool2d(output_size=1)\n",
              "   (2): Flatten()\n",
              "   (3): BatchNorm1d(1024, eps=1e-05, momentum=0.1, affine=True, track_running_stats=True)\n",
              "   (4): Dropout(p=0.25)\n",
              "   (5): Linear(in_features=1024, out_features=512, bias=True)\n",
              "   (6): ReLU(inplace)\n",
              "   (7): BatchNorm1d(512, eps=1e-05, momentum=0.1, affine=True, track_running_stats=True)\n",
              "   (8): Dropout(p=0.5)\n",
              "   (9): Linear(in_features=512, out_features=120, bias=True)\n",
              " )]"
            ]
          },
          "metadata": {
            "tags": []
          },
          "execution_count": 7
        }
      ]
    },
    {
      "cell_type": "code",
      "metadata": {
        "colab_type": "code",
        "id": "jZ6g_Es3MJ-f",
        "outputId": "7ebf10a5-5332-40ae-db6f-2ad9cacac23e",
        "colab": {
          "base_uri": "https://localhost:8080/",
          "height": 81
        }
      },
      "source": [
        "model.unfreeze()\n",
        "# установим learning rate для каждой из трех групп, делать их отличающимися на порядок\n",
        "# хорошая идея в большинстве случаев, при этом lr для последнего слоя мы нашли из lr_find\n",
        "model.fit_one_cycle(1, [1e-4, 1e-3, 1e-2])\n",
        "model.export()"
      ],
      "execution_count": 0,
      "outputs": [
        {
          "output_type": "display_data",
          "data": {
            "text/html": [
              "<table border=\"1\" class=\"dataframe\">\n",
              "  <thead>\n",
              "    <tr style=\"text-align: left;\">\n",
              "      <th>epoch</th>\n",
              "      <th>train_loss</th>\n",
              "      <th>valid_loss</th>\n",
              "      <th>accuracy</th>\n",
              "      <th>time</th>\n",
              "    </tr>\n",
              "  </thead>\n",
              "  <tbody>\n",
              "    <tr>\n",
              "      <td>0</td>\n",
              "      <td>2.319810</td>\n",
              "      <td>1.910291</td>\n",
              "      <td>0.484066</td>\n",
              "      <td>1:04:54</td>\n",
              "    </tr>\n",
              "  </tbody>\n",
              "</table>"
            ],
            "text/plain": [
              "<IPython.core.display.HTML object>"
            ]
          },
          "metadata": {
            "tags": []
          }
        }
      ]
    },
    {
      "cell_type": "code",
      "metadata": {
        "id": "0l3keoliJYYA",
        "colab_type": "code",
        "outputId": "f1359ce5-afae-428a-d1af-1e2c4e3d94e5",
        "colab": {
          "base_uri": "https://localhost:8080/",
          "height": 81
        }
      },
      "source": [
        "model.fit_one_cycle(1, [1e-4, 1e-3, 1e-2])\n",
        "model.fit_one_cycle(1, [1e-4, 1e-3, 1e-2])"
      ],
      "execution_count": 0,
      "outputs": [
        {
          "output_type": "display_data",
          "data": {
            "text/html": [
              "<table border=\"1\" class=\"dataframe\">\n",
              "  <thead>\n",
              "    <tr style=\"text-align: left;\">\n",
              "      <th>epoch</th>\n",
              "      <th>train_loss</th>\n",
              "      <th>valid_loss</th>\n",
              "      <th>accuracy</th>\n",
              "      <th>time</th>\n",
              "    </tr>\n",
              "  </thead>\n",
              "  <tbody>\n",
              "    <tr>\n",
              "      <td>0</td>\n",
              "      <td>1.800419</td>\n",
              "      <td>1.624959</td>\n",
              "      <td>0.557999</td>\n",
              "      <td>14:58</td>\n",
              "    </tr>\n",
              "  </tbody>\n",
              "</table>"
            ],
            "text/plain": [
              "<IPython.core.display.HTML object>"
            ]
          },
          "metadata": {
            "tags": []
          }
        }
      ]
    },
    {
      "cell_type": "markdown",
      "metadata": {
        "colab_type": "text",
        "id": "ORFCSukxMJ-h"
      },
      "source": [
        " # Сохраним веса"
      ]
    },
    {
      "cell_type": "code",
      "metadata": {
        "colab_type": "code",
        "id": "RDoYfV8OMJ-i",
        "colab": {}
      },
      "source": [
        "model.export()"
      ],
      "execution_count": 0,
      "outputs": []
    }
  ]
}